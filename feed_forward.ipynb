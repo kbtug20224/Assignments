{
  "nbformat": 4,
  "nbformat_minor": 0,
  "metadata": {
    "colab": {
      "provenance": [],
      "authorship_tag": "ABX9TyMDQsOQrJIB5F5w2a3zuVO6",
      "include_colab_link": true
    },
    "kernelspec": {
      "name": "python3",
      "display_name": "Python 3"
    },
    "language_info": {
      "name": "python"
    }
  },
  "cells": [
    {
      "cell_type": "markdown",
      "metadata": {
        "id": "view-in-github",
        "colab_type": "text"
      },
      "source": [
        "<a href=\"https://colab.research.google.com/github/kbtug20224/Assignments/blob/main/feed_forward.ipynb\" target=\"_parent\"><img src=\"https://colab.research.google.com/assets/colab-badge.svg\" alt=\"Open In Colab\"/></a>"
      ]
    },
    {
      "cell_type": "code",
      "execution_count": null,
      "metadata": {
        "id": "59mi9_sIFsEY"
      },
      "outputs": [],
      "source": [
        "from sklearn.preprocessing import LabelBinarizer\n",
        "from sklearn.metrics import classification_report\n",
        "from tensorflow.keras.models import Sequential\n",
        "from tensorflow.keras.layers import Dense\n",
        "from tensorflow.keras.optimizers import Adam\n",
        "from tensorflow.keras.datasets import mnist\n",
        "\n",
        "import matplotlib.pyplot as plt\n",
        "import numpy as np\n"
      ]
    },
    {
      "cell_type": "code",
      "source": [
        "print(\"[Info], accesssing mnist...\")\n",
        "((trainX,trainY),(testX,testY))=mnist.load_data()\n"
      ],
      "metadata": {
        "colab": {
          "base_uri": "https://localhost:8080/"
        },
        "id": "DOXEo3GZJkGM",
        "outputId": "72993718-c729-495c-a2c5-bb230d5af36a"
      },
      "execution_count": null,
      "outputs": [
        {
          "output_type": "stream",
          "name": "stdout",
          "text": [
            "[Info], accesssing mnist...\n"
          ]
        }
      ]
    },
    {
      "cell_type": "code",
      "source": [],
      "metadata": {
        "id": "AADpYQiOLjqz"
      },
      "execution_count": null,
      "outputs": []
    },
    {
      "cell_type": "code",
      "source": [
        "trainX = trainX.reshape((trainX.shape[0], 28*28*1))\n",
        "testX = testX.reshape((testX.shape[0], 28*28*1))\n",
        "\n",
        "trainX = trainX.astype(\"float32\")/255.0\n",
        "testX = testX.astype(\"float32\")/255.0"
      ],
      "metadata": {
        "id": "WLCUDo_aLcMh"
      },
      "execution_count": null,
      "outputs": []
    },
    {
      "cell_type": "code",
      "source": [
        "lb = LabelBinarizer()\n",
        "trainY = lb.fit_transform(trainY)\n",
        "testY = lb.fit_transform(testY)"
      ],
      "metadata": {
        "id": "eLPQ4fNuLnj9"
      },
      "execution_count": null,
      "outputs": []
    },
    {
      "cell_type": "code",
      "source": [
        "model =Sequential()\n",
        "model.add(Dense(256,input_shape=(784,),activation=\"relu\"))\n",
        "model.add(Dense(128,activation=\"relu\"))\n",
        "model.add(Dense(64,activation=\"relu\"))\n",
        "model.add(Dense(10,activation=\"softmax\"))"
      ],
      "metadata": {
        "id": "v54ETb2OL-BL"
      },
      "execution_count": null,
      "outputs": []
    },
    {
      "cell_type": "code",
      "source": [
        "print(\"[info], accesasing mnist...\")\n",
        "Adm =Adam(0,0.1)\n",
        "model.compile(loss=\"categorical_crossentropy\", optimizer=Adm, metrics=['Accuracy'])\n",
        "H = model.fit(trainX,trainY, validation_data=(testX,testY),epochs=100, batch_size=128)"
      ],
      "metadata": {
        "colab": {
          "base_uri": "https://localhost:8080/"
        },
        "id": "0DROysKuM2I-",
        "outputId": "fa50935b-d573-463e-ce1e-3e6626c388b2"
      },
      "execution_count": null,
      "outputs": [
        {
          "output_type": "stream",
          "name": "stdout",
          "text": [
            "[info], accesasing mnist...\n",
            "Epoch 1/100\n",
            "469/469 [==============================] - 4s 6ms/step - loss: 2.3131 - Accuracy: 0.0887 - val_loss: 2.3151 - val_Accuracy: 0.0906\n",
            "Epoch 2/100\n",
            "469/469 [==============================] - 3s 7ms/step - loss: 2.3131 - Accuracy: 0.0887 - val_loss: 2.3151 - val_Accuracy: 0.0906\n",
            "Epoch 3/100\n",
            "469/469 [==============================] - 3s 5ms/step - loss: 2.3131 - Accuracy: 0.0887 - val_loss: 2.3151 - val_Accuracy: 0.0906\n",
            "Epoch 4/100\n",
            "469/469 [==============================] - 3s 5ms/step - loss: 2.3131 - Accuracy: 0.0887 - val_loss: 2.3151 - val_Accuracy: 0.0906\n",
            "Epoch 5/100\n",
            "469/469 [==============================] - 3s 6ms/step - loss: 2.3131 - Accuracy: 0.0887 - val_loss: 2.3151 - val_Accuracy: 0.0906\n",
            "Epoch 6/100\n",
            "469/469 [==============================] - 3s 7ms/step - loss: 2.3131 - Accuracy: 0.0887 - val_loss: 2.3151 - val_Accuracy: 0.0906\n",
            "Epoch 7/100\n",
            "469/469 [==============================] - 3s 6ms/step - loss: 2.3131 - Accuracy: 0.0887 - val_loss: 2.3151 - val_Accuracy: 0.0906\n",
            "Epoch 8/100\n",
            "469/469 [==============================] - 2s 5ms/step - loss: 2.3131 - Accuracy: 0.0887 - val_loss: 2.3151 - val_Accuracy: 0.0906\n",
            "Epoch 9/100\n",
            "469/469 [==============================] - 3s 7ms/step - loss: 2.3131 - Accuracy: 0.0887 - val_loss: 2.3151 - val_Accuracy: 0.0906\n",
            "Epoch 10/100\n",
            "469/469 [==============================] - 4s 8ms/step - loss: 2.3131 - Accuracy: 0.0887 - val_loss: 2.3151 - val_Accuracy: 0.0906\n",
            "Epoch 11/100\n",
            "469/469 [==============================] - 3s 6ms/step - loss: 2.3131 - Accuracy: 0.0887 - val_loss: 2.3151 - val_Accuracy: 0.0906\n",
            "Epoch 12/100\n",
            "469/469 [==============================] - 3s 5ms/step - loss: 2.3131 - Accuracy: 0.0887 - val_loss: 2.3151 - val_Accuracy: 0.0906\n",
            "Epoch 13/100\n",
            "469/469 [==============================] - 3s 7ms/step - loss: 2.3131 - Accuracy: 0.0887 - val_loss: 2.3151 - val_Accuracy: 0.0906\n",
            "Epoch 14/100\n",
            "469/469 [==============================] - 3s 7ms/step - loss: 2.3131 - Accuracy: 0.0887 - val_loss: 2.3151 - val_Accuracy: 0.0906\n",
            "Epoch 15/100\n",
            "469/469 [==============================] - 3s 6ms/step - loss: 2.3131 - Accuracy: 0.0887 - val_loss: 2.3151 - val_Accuracy: 0.0906\n",
            "Epoch 16/100\n",
            "469/469 [==============================] - 3s 6ms/step - loss: 2.3131 - Accuracy: 0.0887 - val_loss: 2.3151 - val_Accuracy: 0.0906\n",
            "Epoch 17/100\n",
            "469/469 [==============================] - 3s 6ms/step - loss: 2.3131 - Accuracy: 0.0887 - val_loss: 2.3151 - val_Accuracy: 0.0906\n",
            "Epoch 18/100\n",
            "469/469 [==============================] - 4s 8ms/step - loss: 2.3131 - Accuracy: 0.0887 - val_loss: 2.3151 - val_Accuracy: 0.0906\n",
            "Epoch 19/100\n",
            "469/469 [==============================] - 3s 5ms/step - loss: 2.3131 - Accuracy: 0.0887 - val_loss: 2.3151 - val_Accuracy: 0.0906\n",
            "Epoch 20/100\n",
            "469/469 [==============================] - 3s 6ms/step - loss: 2.3131 - Accuracy: 0.0887 - val_loss: 2.3151 - val_Accuracy: 0.0906\n",
            "Epoch 21/100\n",
            "469/469 [==============================] - 3s 6ms/step - loss: 2.3131 - Accuracy: 0.0887 - val_loss: 2.3151 - val_Accuracy: 0.0906\n",
            "Epoch 22/100\n",
            "469/469 [==============================] - 3s 7ms/step - loss: 2.3131 - Accuracy: 0.0887 - val_loss: 2.3151 - val_Accuracy: 0.0906\n",
            "Epoch 23/100\n",
            "469/469 [==============================] - 3s 6ms/step - loss: 2.3131 - Accuracy: 0.0887 - val_loss: 2.3151 - val_Accuracy: 0.0906\n",
            "Epoch 24/100\n",
            "469/469 [==============================] - 3s 6ms/step - loss: 2.3131 - Accuracy: 0.0887 - val_loss: 2.3151 - val_Accuracy: 0.0906\n",
            "Epoch 25/100\n",
            "469/469 [==============================] - 3s 5ms/step - loss: 2.3131 - Accuracy: 0.0887 - val_loss: 2.3151 - val_Accuracy: 0.0906\n",
            "Epoch 26/100\n",
            "469/469 [==============================] - 3s 7ms/step - loss: 2.3131 - Accuracy: 0.0887 - val_loss: 2.3151 - val_Accuracy: 0.0906\n",
            "Epoch 27/100\n",
            "469/469 [==============================] - 3s 6ms/step - loss: 2.3131 - Accuracy: 0.0887 - val_loss: 2.3151 - val_Accuracy: 0.0906\n",
            "Epoch 28/100\n",
            "469/469 [==============================] - 3s 7ms/step - loss: 2.3131 - Accuracy: 0.0887 - val_loss: 2.3151 - val_Accuracy: 0.0906\n",
            "Epoch 29/100\n",
            "469/469 [==============================] - 3s 6ms/step - loss: 2.3131 - Accuracy: 0.0887 - val_loss: 2.3151 - val_Accuracy: 0.0906\n",
            "Epoch 30/100\n",
            "469/469 [==============================] - 3s 7ms/step - loss: 2.3131 - Accuracy: 0.0887 - val_loss: 2.3151 - val_Accuracy: 0.0906\n",
            "Epoch 31/100\n",
            "469/469 [==============================] - 3s 6ms/step - loss: 2.3131 - Accuracy: 0.0887 - val_loss: 2.3151 - val_Accuracy: 0.0906\n",
            "Epoch 32/100\n",
            "469/469 [==============================] - 3s 6ms/step - loss: 2.3131 - Accuracy: 0.0887 - val_loss: 2.3151 - val_Accuracy: 0.0906\n",
            "Epoch 33/100\n",
            "469/469 [==============================] - 3s 7ms/step - loss: 2.3131 - Accuracy: 0.0887 - val_loss: 2.3151 - val_Accuracy: 0.0906\n",
            "Epoch 34/100\n",
            "469/469 [==============================] - 3s 7ms/step - loss: 2.3131 - Accuracy: 0.0887 - val_loss: 2.3151 - val_Accuracy: 0.0906\n",
            "Epoch 35/100\n",
            "469/469 [==============================] - 2s 5ms/step - loss: 2.3131 - Accuracy: 0.0887 - val_loss: 2.3151 - val_Accuracy: 0.0906\n",
            "Epoch 36/100\n",
            "469/469 [==============================] - 3s 6ms/step - loss: 2.3131 - Accuracy: 0.0887 - val_loss: 2.3151 - val_Accuracy: 0.0906\n",
            "Epoch 37/100\n",
            "469/469 [==============================] - 3s 6ms/step - loss: 2.3131 - Accuracy: 0.0887 - val_loss: 2.3151 - val_Accuracy: 0.0906\n",
            "Epoch 38/100\n",
            "469/469 [==============================] - 4s 8ms/step - loss: 2.3131 - Accuracy: 0.0887 - val_loss: 2.3151 - val_Accuracy: 0.0906\n",
            "Epoch 39/100\n",
            "469/469 [==============================] - 2s 5ms/step - loss: 2.3131 - Accuracy: 0.0887 - val_loss: 2.3151 - val_Accuracy: 0.0906\n",
            "Epoch 40/100\n",
            "469/469 [==============================] - 3s 5ms/step - loss: 2.3131 - Accuracy: 0.0887 - val_loss: 2.3151 - val_Accuracy: 0.0906\n",
            "Epoch 41/100\n",
            "469/469 [==============================] - 3s 6ms/step - loss: 2.3131 - Accuracy: 0.0887 - val_loss: 2.3151 - val_Accuracy: 0.0906\n",
            "Epoch 42/100\n",
            "469/469 [==============================] - 3s 7ms/step - loss: 2.3131 - Accuracy: 0.0887 - val_loss: 2.3151 - val_Accuracy: 0.0906\n",
            "Epoch 43/100\n",
            "469/469 [==============================] - 3s 6ms/step - loss: 2.3131 - Accuracy: 0.0887 - val_loss: 2.3151 - val_Accuracy: 0.0906\n",
            "Epoch 44/100\n",
            "469/469 [==============================] - 3s 6ms/step - loss: 2.3131 - Accuracy: 0.0887 - val_loss: 2.3151 - val_Accuracy: 0.0906\n",
            "Epoch 45/100\n",
            "469/469 [==============================] - 2s 5ms/step - loss: 2.3131 - Accuracy: 0.0887 - val_loss: 2.3151 - val_Accuracy: 0.0906\n",
            "Epoch 46/100\n",
            "469/469 [==============================] - 3s 6ms/step - loss: 2.3131 - Accuracy: 0.0887 - val_loss: 2.3151 - val_Accuracy: 0.0906\n",
            "Epoch 47/100\n",
            "469/469 [==============================] - 3s 7ms/step - loss: 2.3131 - Accuracy: 0.0887 - val_loss: 2.3151 - val_Accuracy: 0.0906\n",
            "Epoch 48/100\n",
            "469/469 [==============================] - 3s 6ms/step - loss: 2.3131 - Accuracy: 0.0887 - val_loss: 2.3151 - val_Accuracy: 0.0906\n",
            "Epoch 49/100\n",
            "469/469 [==============================] - 3s 6ms/step - loss: 2.3131 - Accuracy: 0.0887 - val_loss: 2.3151 - val_Accuracy: 0.0906\n",
            "Epoch 50/100\n",
            "469/469 [==============================] - 3s 6ms/step - loss: 2.3131 - Accuracy: 0.0887 - val_loss: 2.3151 - val_Accuracy: 0.0906\n",
            "Epoch 51/100\n",
            "469/469 [==============================] - 3s 7ms/step - loss: 2.3131 - Accuracy: 0.0887 - val_loss: 2.3151 - val_Accuracy: 0.0906\n",
            "Epoch 52/100\n",
            "469/469 [==============================] - 3s 5ms/step - loss: 2.3131 - Accuracy: 0.0887 - val_loss: 2.3151 - val_Accuracy: 0.0906\n",
            "Epoch 53/100\n",
            "469/469 [==============================] - 2s 5ms/step - loss: 2.3131 - Accuracy: 0.0887 - val_loss: 2.3151 - val_Accuracy: 0.0906\n",
            "Epoch 54/100\n",
            "469/469 [==============================] - 2s 5ms/step - loss: 2.3131 - Accuracy: 0.0887 - val_loss: 2.3151 - val_Accuracy: 0.0906\n",
            "Epoch 55/100\n",
            "469/469 [==============================] - 3s 7ms/step - loss: 2.3131 - Accuracy: 0.0887 - val_loss: 2.3151 - val_Accuracy: 0.0906\n",
            "Epoch 56/100\n",
            "469/469 [==============================] - 3s 6ms/step - loss: 2.3131 - Accuracy: 0.0887 - val_loss: 2.3151 - val_Accuracy: 0.0906\n",
            "Epoch 57/100\n",
            "469/469 [==============================] - 3s 6ms/step - loss: 2.3131 - Accuracy: 0.0887 - val_loss: 2.3151 - val_Accuracy: 0.0906\n",
            "Epoch 58/100\n",
            "469/469 [==============================] - 3s 6ms/step - loss: 2.3131 - Accuracy: 0.0887 - val_loss: 2.3151 - val_Accuracy: 0.0906\n",
            "Epoch 59/100\n",
            "469/469 [==============================] - 3s 6ms/step - loss: 2.3131 - Accuracy: 0.0887 - val_loss: 2.3151 - val_Accuracy: 0.0906\n",
            "Epoch 60/100\n",
            "469/469 [==============================] - 3s 6ms/step - loss: 2.3131 - Accuracy: 0.0887 - val_loss: 2.3151 - val_Accuracy: 0.0906\n",
            "Epoch 61/100\n",
            "469/469 [==============================] - 3s 6ms/step - loss: 2.3131 - Accuracy: 0.0887 - val_loss: 2.3151 - val_Accuracy: 0.0906\n",
            "Epoch 62/100\n",
            "469/469 [==============================] - 3s 6ms/step - loss: 2.3131 - Accuracy: 0.0887 - val_loss: 2.3151 - val_Accuracy: 0.0906\n",
            "Epoch 63/100\n",
            "469/469 [==============================] - 3s 6ms/step - loss: 2.3131 - Accuracy: 0.0887 - val_loss: 2.3151 - val_Accuracy: 0.0906\n",
            "Epoch 64/100\n",
            "469/469 [==============================] - 3s 7ms/step - loss: 2.3131 - Accuracy: 0.0887 - val_loss: 2.3151 - val_Accuracy: 0.0906\n",
            "Epoch 65/100\n",
            "469/469 [==============================] - 3s 6ms/step - loss: 2.3131 - Accuracy: 0.0887 - val_loss: 2.3151 - val_Accuracy: 0.0906\n",
            "Epoch 66/100\n",
            "469/469 [==============================] - 3s 7ms/step - loss: 2.3131 - Accuracy: 0.0887 - val_loss: 2.3151 - val_Accuracy: 0.0906\n",
            "Epoch 67/100\n",
            "469/469 [==============================] - 3s 7ms/step - loss: 2.3131 - Accuracy: 0.0887 - val_loss: 2.3151 - val_Accuracy: 0.0906\n",
            "Epoch 68/100\n",
            "469/469 [==============================] - 3s 6ms/step - loss: 2.3131 - Accuracy: 0.0887 - val_loss: 2.3151 - val_Accuracy: 0.0906\n",
            "Epoch 69/100\n",
            "469/469 [==============================] - 3s 6ms/step - loss: 2.3131 - Accuracy: 0.0887 - val_loss: 2.3151 - val_Accuracy: 0.0906\n",
            "Epoch 70/100\n",
            "469/469 [==============================] - 3s 6ms/step - loss: 2.3131 - Accuracy: 0.0887 - val_loss: 2.3151 - val_Accuracy: 0.0906\n",
            "Epoch 71/100\n",
            "469/469 [==============================] - 3s 7ms/step - loss: 2.3131 - Accuracy: 0.0887 - val_loss: 2.3151 - val_Accuracy: 0.0906\n",
            "Epoch 72/100\n",
            "469/469 [==============================] - 3s 6ms/step - loss: 2.3131 - Accuracy: 0.0887 - val_loss: 2.3151 - val_Accuracy: 0.0906\n",
            "Epoch 73/100\n",
            "469/469 [==============================] - 3s 7ms/step - loss: 2.3131 - Accuracy: 0.0887 - val_loss: 2.3151 - val_Accuracy: 0.0906\n",
            "Epoch 74/100\n",
            "469/469 [==============================] - 3s 7ms/step - loss: 2.3131 - Accuracy: 0.0887 - val_loss: 2.3151 - val_Accuracy: 0.0906\n",
            "Epoch 75/100\n",
            "469/469 [==============================] - 3s 7ms/step - loss: 2.3131 - Accuracy: 0.0887 - val_loss: 2.3151 - val_Accuracy: 0.0906\n",
            "Epoch 76/100\n",
            "469/469 [==============================] - 3s 6ms/step - loss: 2.3131 - Accuracy: 0.0887 - val_loss: 2.3151 - val_Accuracy: 0.0906\n",
            "Epoch 77/100\n",
            "469/469 [==============================] - 3s 6ms/step - loss: 2.3131 - Accuracy: 0.0887 - val_loss: 2.3151 - val_Accuracy: 0.0906\n",
            "Epoch 78/100\n",
            "469/469 [==============================] - 3s 6ms/step - loss: 2.3131 - Accuracy: 0.0887 - val_loss: 2.3151 - val_Accuracy: 0.0906\n",
            "Epoch 79/100\n",
            "469/469 [==============================] - 3s 7ms/step - loss: 2.3131 - Accuracy: 0.0887 - val_loss: 2.3151 - val_Accuracy: 0.0906\n",
            "Epoch 80/100\n",
            "469/469 [==============================] - 3s 6ms/step - loss: 2.3131 - Accuracy: 0.0887 - val_loss: 2.3151 - val_Accuracy: 0.0906\n",
            "Epoch 81/100\n",
            "469/469 [==============================] - 3s 6ms/step - loss: 2.3131 - Accuracy: 0.0887 - val_loss: 2.3151 - val_Accuracy: 0.0906\n",
            "Epoch 82/100\n",
            "469/469 [==============================] - 3s 6ms/step - loss: 2.3131 - Accuracy: 0.0887 - val_loss: 2.3151 - val_Accuracy: 0.0906\n",
            "Epoch 83/100\n",
            "469/469 [==============================] - 3s 7ms/step - loss: 2.3131 - Accuracy: 0.0887 - val_loss: 2.3151 - val_Accuracy: 0.0906\n",
            "Epoch 84/100\n",
            "469/469 [==============================] - 3s 6ms/step - loss: 2.3131 - Accuracy: 0.0887 - val_loss: 2.3151 - val_Accuracy: 0.0906\n",
            "Epoch 85/100\n",
            "469/469 [==============================] - 3s 6ms/step - loss: 2.3131 - Accuracy: 0.0887 - val_loss: 2.3151 - val_Accuracy: 0.0906\n",
            "Epoch 86/100\n",
            "469/469 [==============================] - 3s 6ms/step - loss: 2.3131 - Accuracy: 0.0887 - val_loss: 2.3151 - val_Accuracy: 0.0906\n",
            "Epoch 87/100\n",
            "469/469 [==============================] - 3s 6ms/step - loss: 2.3131 - Accuracy: 0.0887 - val_loss: 2.3151 - val_Accuracy: 0.0906\n",
            "Epoch 88/100\n",
            "469/469 [==============================] - 3s 6ms/step - loss: 2.3131 - Accuracy: 0.0887 - val_loss: 2.3151 - val_Accuracy: 0.0906\n",
            "Epoch 89/100\n",
            "469/469 [==============================] - 3s 6ms/step - loss: 2.3131 - Accuracy: 0.0887 - val_loss: 2.3151 - val_Accuracy: 0.0906\n",
            "Epoch 90/100\n",
            "469/469 [==============================] - 2s 5ms/step - loss: 2.3131 - Accuracy: 0.0887 - val_loss: 2.3151 - val_Accuracy: 0.0906\n",
            "Epoch 91/100\n",
            "469/469 [==============================] - 3s 6ms/step - loss: 2.3131 - Accuracy: 0.0887 - val_loss: 2.3151 - val_Accuracy: 0.0906\n",
            "Epoch 92/100\n",
            "469/469 [==============================] - 3s 6ms/step - loss: 2.3131 - Accuracy: 0.0887 - val_loss: 2.3151 - val_Accuracy: 0.0906\n",
            "Epoch 93/100\n",
            "469/469 [==============================] - 3s 5ms/step - loss: 2.3131 - Accuracy: 0.0887 - val_loss: 2.3151 - val_Accuracy: 0.0906\n",
            "Epoch 94/100\n",
            "469/469 [==============================] - 3s 6ms/step - loss: 2.3131 - Accuracy: 0.0887 - val_loss: 2.3151 - val_Accuracy: 0.0906\n",
            "Epoch 95/100\n",
            "469/469 [==============================] - 3s 5ms/step - loss: 2.3131 - Accuracy: 0.0887 - val_loss: 2.3151 - val_Accuracy: 0.0906\n",
            "Epoch 96/100\n",
            "469/469 [==============================] - 3s 7ms/step - loss: 2.3131 - Accuracy: 0.0887 - val_loss: 2.3151 - val_Accuracy: 0.0906\n",
            "Epoch 97/100\n",
            "469/469 [==============================] - 3s 7ms/step - loss: 2.3131 - Accuracy: 0.0887 - val_loss: 2.3151 - val_Accuracy: 0.0906\n",
            "Epoch 98/100\n",
            "469/469 [==============================] - 3s 6ms/step - loss: 2.3131 - Accuracy: 0.0887 - val_loss: 2.3151 - val_Accuracy: 0.0906\n",
            "Epoch 99/100\n",
            "469/469 [==============================] - 3s 6ms/step - loss: 2.3131 - Accuracy: 0.0887 - val_loss: 2.3151 - val_Accuracy: 0.0906\n",
            "Epoch 100/100\n",
            "469/469 [==============================] - 3s 7ms/step - loss: 2.3131 - Accuracy: 0.0887 - val_loss: 2.3151 - val_Accuracy: 0.0906\n"
          ]
        }
      ]
    },
    {
      "cell_type": "code",
      "source": [
        "print(\"[info ],evaluting network...\")\n",
        "predictions = model.predict(testX, batch_size=128)\n",
        "print(classification_report(testY.argmax(axis=1),\n",
        "                            predictions.argmax(axis=1),\n",
        "                            target_names=[str(x) for x in lb.classes_]))"
      ],
      "metadata": {
        "colab": {
          "base_uri": "https://localhost:8080/"
        },
        "id": "GBU34FQWTILz",
        "outputId": "ee5b721a-680c-43c8-fab6-359efb9e27b3"
      },
      "execution_count": null,
      "outputs": [
        {
          "output_type": "stream",
          "name": "stdout",
          "text": [
            "[info ],evaluting network...\n",
            "79/79 [==============================] - 0s 2ms/step\n",
            "              precision    recall  f1-score   support\n",
            "\n",
            "           0       0.00      0.00      0.00       980\n",
            "           1       0.00      0.00      0.00      1135\n",
            "           2       0.13      0.02      0.04      1032\n",
            "           3       0.09      0.02      0.04      1010\n",
            "           4       0.09      0.05      0.07       982\n",
            "           5       0.11      0.71      0.19       892\n",
            "           6       0.03      0.02      0.02       958\n",
            "           7       0.00      0.00      0.00      1028\n",
            "           8       0.10      0.09      0.10       974\n",
            "           9       0.08      0.15      0.10      1009\n",
            "\n",
            "    accuracy                           0.10     10000\n",
            "   macro avg       0.06      0.11      0.06     10000\n",
            "weighted avg       0.06      0.10      0.05     10000\n",
            "\n"
          ]
        },
        {
          "output_type": "stream",
          "name": "stderr",
          "text": [
            "/usr/local/lib/python3.10/dist-packages/sklearn/metrics/_classification.py:1344: UndefinedMetricWarning: Precision and F-score are ill-defined and being set to 0.0 in labels with no predicted samples. Use `zero_division` parameter to control this behavior.\n",
            "  _warn_prf(average, modifier, msg_start, len(result))\n",
            "/usr/local/lib/python3.10/dist-packages/sklearn/metrics/_classification.py:1344: UndefinedMetricWarning: Precision and F-score are ill-defined and being set to 0.0 in labels with no predicted samples. Use `zero_division` parameter to control this behavior.\n",
            "  _warn_prf(average, modifier, msg_start, len(result))\n",
            "/usr/local/lib/python3.10/dist-packages/sklearn/metrics/_classification.py:1344: UndefinedMetricWarning: Precision and F-score are ill-defined and being set to 0.0 in labels with no predicted samples. Use `zero_division` parameter to control this behavior.\n",
            "  _warn_prf(average, modifier, msg_start, len(result))\n"
          ]
        }
      ]
    },
    {
      "cell_type": "code",
      "source": [
        "plt.style.use(\"ggplot\")\n",
        "plt.figure()\n",
        "plt.plot(np.arrange(0,100),H.history[\"loss\"],label=\"train_loss\")\n",
        "plt.plot(np.arrange(0,100),H.history[\"val_loss\"],label=\"val_loss\")\n",
        "plt.plot(np.arrange(0,100),H.history[\"accuracy\"],label=\"train_acc\")\n",
        "plt.plot(np.arrange(0,100),H.history[val_accuracy],label=\"val_acc\")\n",
        "plt.title(\"training loss and accuracy\")\n",
        "plt.xlabel(\"epoch #\")\n",
        "plt.ylabel(\"loss and accuracy\")\n",
        "plt.legend()"
      ],
      "metadata": {
        "colab": {
          "base_uri": "https://localhost:8080/",
          "height": 245
        },
        "id": "K_H1iixQUoJp",
        "outputId": "988b881d-3c65-4f5a-fd6f-7a1e906967da"
      },
      "execution_count": 1,
      "outputs": [
        {
          "output_type": "error",
          "ename": "NameError",
          "evalue": "ignored",
          "traceback": [
            "\u001b[0;31m---------------------------------------------------------------------------\u001b[0m",
            "\u001b[0;31mNameError\u001b[0m                                 Traceback (most recent call last)",
            "\u001b[0;32m<ipython-input-1-e1e808e45e27>\u001b[0m in \u001b[0;36m<cell line: 1>\u001b[0;34m()\u001b[0m\n\u001b[0;32m----> 1\u001b[0;31m \u001b[0mplt\u001b[0m\u001b[0;34m.\u001b[0m\u001b[0mstyle\u001b[0m\u001b[0;34m.\u001b[0m\u001b[0muse\u001b[0m\u001b[0;34m(\u001b[0m\u001b[0;34m\"ggplot\"\u001b[0m\u001b[0;34m)\u001b[0m\u001b[0;34m\u001b[0m\u001b[0;34m\u001b[0m\u001b[0m\n\u001b[0m\u001b[1;32m      2\u001b[0m \u001b[0mplt\u001b[0m\u001b[0;34m.\u001b[0m\u001b[0mfigure\u001b[0m\u001b[0;34m(\u001b[0m\u001b[0;34m)\u001b[0m\u001b[0;34m\u001b[0m\u001b[0;34m\u001b[0m\u001b[0m\n\u001b[1;32m      3\u001b[0m \u001b[0mplt\u001b[0m\u001b[0;34m.\u001b[0m\u001b[0mplot\u001b[0m\u001b[0;34m(\u001b[0m\u001b[0mnp\u001b[0m\u001b[0;34m.\u001b[0m\u001b[0marrange\u001b[0m\u001b[0;34m(\u001b[0m\u001b[0;36m0\u001b[0m\u001b[0;34m,\u001b[0m\u001b[0;36m100\u001b[0m\u001b[0;34m)\u001b[0m\u001b[0;34m,\u001b[0m\u001b[0mH\u001b[0m\u001b[0;34m.\u001b[0m\u001b[0mhistory\u001b[0m\u001b[0;34m[\u001b[0m\u001b[0;34m\"loss\"\u001b[0m\u001b[0;34m]\u001b[0m\u001b[0;34m,\u001b[0m\u001b[0mlabel\u001b[0m\u001b[0;34m=\u001b[0m\u001b[0;34m\"train_loss\"\u001b[0m\u001b[0;34m)\u001b[0m\u001b[0;34m\u001b[0m\u001b[0;34m\u001b[0m\u001b[0m\n\u001b[1;32m      4\u001b[0m \u001b[0mplt\u001b[0m\u001b[0;34m.\u001b[0m\u001b[0mplot\u001b[0m\u001b[0;34m(\u001b[0m\u001b[0mnp\u001b[0m\u001b[0;34m.\u001b[0m\u001b[0marrange\u001b[0m\u001b[0;34m(\u001b[0m\u001b[0;36m0\u001b[0m\u001b[0;34m,\u001b[0m\u001b[0;36m100\u001b[0m\u001b[0;34m)\u001b[0m\u001b[0;34m,\u001b[0m\u001b[0mH\u001b[0m\u001b[0;34m.\u001b[0m\u001b[0mhistory\u001b[0m\u001b[0;34m[\u001b[0m\u001b[0;34m\"val_loss\"\u001b[0m\u001b[0;34m]\u001b[0m\u001b[0;34m,\u001b[0m\u001b[0mlabel\u001b[0m\u001b[0;34m=\u001b[0m\u001b[0;34m\"val_loss\"\u001b[0m\u001b[0;34m)\u001b[0m\u001b[0;34m\u001b[0m\u001b[0;34m\u001b[0m\u001b[0m\n\u001b[1;32m      5\u001b[0m \u001b[0mplt\u001b[0m\u001b[0;34m.\u001b[0m\u001b[0mplot\u001b[0m\u001b[0;34m(\u001b[0m\u001b[0mnp\u001b[0m\u001b[0;34m.\u001b[0m\u001b[0marrange\u001b[0m\u001b[0;34m(\u001b[0m\u001b[0;36m0\u001b[0m\u001b[0;34m,\u001b[0m\u001b[0;36m100\u001b[0m\u001b[0;34m)\u001b[0m\u001b[0;34m,\u001b[0m\u001b[0mH\u001b[0m\u001b[0;34m.\u001b[0m\u001b[0mhistory\u001b[0m\u001b[0;34m[\u001b[0m\u001b[0;34m\"accuracy\"\u001b[0m\u001b[0;34m]\u001b[0m\u001b[0;34m,\u001b[0m\u001b[0mlabel\u001b[0m\u001b[0;34m=\u001b[0m\u001b[0;34m\"train_acc\"\u001b[0m\u001b[0;34m)\u001b[0m\u001b[0;34m\u001b[0m\u001b[0;34m\u001b[0m\u001b[0m\n",
            "\u001b[0;31mNameError\u001b[0m: name 'plt' is not defined"
          ]
        }
      ]
    },
    {
      "cell_type": "code",
      "source": [],
      "metadata": {
        "id": "TbRb5iX1WN8C"
      },
      "execution_count": null,
      "outputs": []
    }
  ]
}